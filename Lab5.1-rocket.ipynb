{
 "cells": [
  {
   "cell_type": "code",
   "execution_count": 1,
   "metadata": {
    "colab": {},
    "colab_type": "code",
    "id": "twBmPWIxDeal"
   },
   "outputs": [],
   "source": [
    "import numpy as np\n",
    "import matplotlib.pyplot as plt\n",
    "from PIL import Image\n",
    "import matplotlib.animation as animation\n",
    "from IPython.display import HTML\n",
    "from skimage import draw\n",
    "%matplotlib inline\n",
    "#comment                                                                           "
   ]
  },
  {
   "cell_type": "code",
   "execution_count": 2,
   "metadata": {
    "colab": {},
    "colab_type": "code",
    "id": "UYGJsE-zDear"
   },
   "outputs": [],
   "source": [
    "def plot_images(img_list):\n",
    "    def init():\n",
    "        img.set_data(img_list[0])\n",
    "        return (img,)\n",
    "\n",
    "    def animate(i):\n",
    "        img.set_data(img_list[i])\n",
    "        return (img,)\n",
    "\n",
    "    plt.figure(figsize = (15,15))\n",
    "    fig = plt.figure()\n",
    "    ax = fig.gca()\n",
    "    img = ax.imshow(img_list[0])\n",
    "    anim = animation.FuncAnimation(fig, animate, init_func=init,\n",
    "                                 frames=len(img_list), interval=20, blit=True)\n",
    "    return anim\n"
   ]
  },
  {
   "cell_type": "code",
   "execution_count": 3,
   "metadata": {
    "colab": {},
    "colab_type": "code",
    "id": "Gc_r3VOJDeat"
   },
   "outputs": [],
   "source": [
    "class World():\n",
    "    def __init__(self,rocket,target,width=768,height=640,stop_limit=100):\n",
    "        self.rocket = rocket\n",
    "        self.target = target\n",
    "        self.width = width\n",
    "        self.height = height\n",
    "        self.time = 0\n",
    "        self.stop_limit = stop_limit\n",
    "        self.worlds = [np.ones((width,height),dtype=np.uint8)]\n",
    "        self.distance = []\n",
    "        \n",
    "    \n",
    "    def gen_img(self,world):\n",
    "        buff = np.array((world,world,world))*255\n",
    "        return buff.reshape(self.width,self.height,3)\n",
    "    \n",
    "    def run(self):\n",
    "        print(\"Run the world\")\n",
    "\n",
    "        while True:\n",
    "            self.time = self.time + 1\n",
    "            xt,yt = self.target.move(self.time)\n",
    "            xr,yr = self.rocket.move(self.time,self.target)\n",
    "            self.distance.append(np.linalg.norm(np.array([xt,yt])-np.array([xr,yr])))\n",
    "            rt, ct = draw.circle(int(xt), int(yt), radius=10, shape=self.worlds[-1].shape)\n",
    "            self.worlds[-1][rt,ct]=0\n",
    "            rr, cr = draw.circle(int(xr), int(yr), radius=10, shape=self.worlds[-1].shape)\n",
    "            self.worlds[-1][rr,cr]=0\n",
    "            self.worlds.append(np.ones((self.width,self.height),dtype=np.uint8))\n",
    "            if self.time>self.stop_limit:\n",
    "                print(len(self.worlds))\n",
    "                print(\"Stop the world\")\n",
    "                break\n",
    "            if self.distance[-1]<10:\n",
    "                break\n",
    "        return self.worlds\n"
   ]
  },
  {
   "cell_type": "code",
   "execution_count": 4,
   "metadata": {
    "colab": {},
    "colab_type": "code",
    "id": "19PtinByDeaw"
   },
   "outputs": [],
   "source": [
    "class RectRocket():\n",
    "    def __init__(self,x0,y0,v,angle):\n",
    "        self.x = x0\n",
    "        self.y = y0\n",
    "        self.v = v\n",
    "        self.angle = angle\n",
    "    \n",
    "    def move(self,time,target):\n",
    "        deltax = self.x - target.x\n",
    "        deltay = self.y - target.y\n",
    "        # Put your code here\n",
    "        # Calculate your angle and apply it to new (x,y) coords\n",
    "        # Steps:\n",
    "        # 1. Calculate alpha = arctan(deltax/deltay)\n",
    "        alpha = np.arctan(deltax/deltay)\n",
    "        # 2. Calcualte new_x = old_x + sin/cos(alpha)*v\n",
    "        new_x = self.x + (np.sin(alpha)/np.cos(alpha))*self.v\n",
    "        \n",
    "        self.x = new_x\n",
    "        self.x = self.x - self.v\n",
    "        self.y = self.y - np.sign(deltay)*self.v\n",
    "        return (self.x,self.y)\n",
    "    \n",
    "    \n",
    "    \n",
    "class Target():\n",
    "    def __init__(self,r1,f1,r2,f2,x0,y0):\n",
    "        self.x0 = x0\n",
    "        self.y0 = y0\n",
    "        self.r1 = r1\n",
    "        self.f1 = f1\n",
    "        self.r2 = r2\n",
    "        self.f2 = f2\n",
    "        self.move(0)\n",
    "        \n",
    "    def move(self,time):\n",
    "        self.x = self.x0 + self.r1 * np.cos(time*2*np.pi*self.f1) + self.r2 * np.cos(time*2*np.pi*self.f2)\n",
    "        self.y = self.y0 + self.r1 * np.sin(time*2*np.pi*self.f1) + self.r2 * np.sin(time*2*np.pi*self.f2)\n",
    "        return (self.x,self.y)"
   ]
  },
  {
   "cell_type": "code",
   "execution_count": 6,
   "metadata": {
    "colab": {
     "base_uri": "https://localhost:8080/",
     "height": 594
    },
    "colab_type": "code",
    "id": "N6Fd5dmhDeay",
    "outputId": "f4453f5f-3923-4335-c12c-ea3ebf6da3bf"
   },
   "outputs": [
    {
     "name": "stdout",
     "output_type": "stream",
     "text": [
      "Run the world\n"
     ]
    },
    {
     "data": {
      "text/html": [
       "<video width=\"432\" height=\"288\" controls autoplay loop>\n",
       "  <source type=\"video/mp4\" src=\"data:video/mp4;base64,AAAAHGZ0eXBNNFYgAAACAGlzb21pc28yYXZjMQAAAAhmcmVlAAAVZ21kYXQAAAKgBgX//5zcRem9\n",
       "5tlIt5Ys2CDZI+7veDI2NCAtIGNvcmUgMTU5IC0gSC4yNjQvTVBFRy00IEFWQyBjb2RlYyAtIENv\n",
       "cHlsZWZ0IDIwMDMtMjAxOSAtIGh0dHA6Ly93d3cudmlkZW9sYW4ub3JnL3gyNjQuaHRtbCAtIG9w\n",
       "dGlvbnM6IGNhYmFjPTEgcmVmPTMgZGVibG9jaz0xOjA6MCBhbmFseXNlPTB4MzoweDExMyBtZT1o\n",
       "ZXggc3VibWU9NyBwc3k9MSBwc3lfcmQ9MS4wMDowLjAwIG1peGVkX3JlZj0xIG1lX3JhbmdlPTE2\n",
       "IGNocm9tYV9tZT0xIHRyZWxsaXM9MSA4eDhkY3Q9MSBjcW09MCBkZWFkem9uZT0yMSwxMSBmYXN0\n",
       "X3Bza2lwPTEgY2hyb21hX3FwX29mZnNldD0tMiB0aHJlYWRzPTYgbG9va2FoZWFkX3RocmVhZHM9\n",
       "MSBzbGljZWRfdGhyZWFkcz0wIG5yPTAgZGVjaW1hdGU9MSBpbnRlcmxhY2VkPTAgYmx1cmF5X2Nv\n",
       "bXBhdD0wIGNvbnN0cmFpbmVkX2ludHJhPTAgYmZyYW1lcz0zIGJfcHlyYW1pZD0yIGJfYWRhcHQ9\n",
       "MSBiX2JpYXM9MCBkaXJlY3Q9MSB3ZWlnaHRiPTEgb3Blbl9nb3A9MCB3ZWlnaHRwPTIga2V5aW50\n",
       "PTI1MCBrZXlpbnRfbWluPTI1IHNjZW5lY3V0PTQwIGludHJhX3JlZnJlc2g9MCByY19sb29rYWhl\n",
       "YWQ9NDAgcmM9Y3JmIG1idHJlZT0xIGNyZj0yMy4wIHFjb21wPTAuNjAgcXBtaW49MCBxcG1heD02\n",
       "OSBxcHN0ZXA9NCBpcF9yYXRpbz0xLjQwIGFxPTE6MS4wMACAAAAH6GWIhAAr//72c3wKa0czlS4F\n",
       "dvdmo+XQkuX7EGD60AAAAwABqtOyDKVEPwTDIVAp+zhdCrXhTyR6xb0aJQt/g4UrhWpVIAAGkPv+\n",
       "hmwEfTEmbnlh2zkJHGMvmK6/n6JqRtGf+py6S7kSBFqMd/xKAj704EUhmNWV9cLvcp8tbP+g0nPy\n",
       "bKZdZSh3ohxn8++xrvKknI28F1/aieWbUcLaczlA36S7l7Nn8qcpugSjvMkdKnAjDyNzonDf9O3E\n",
       "m3Ny/cm7wFWVI/IGwN5JDdAGKYIXcZa6qMJCZFBGk0YiAQ4/bA7Q2eugySzzH6EJjYJdaYdsZPNA\n",
       "/aQ8vw5aEwL9YyLTQTDbe6M+UOXCS1E7KjcjDNCgzX18AcPBx9+ioPlGSNeYADg01p1BNqopAj1+\n",
       "6Ea3HQw7F032ADsctzTmujwM2hPQNWuWqrpwjcSsU1J67CQZMGQu40RazbMmM2XbLiWcrGJ+Ve3Y\n",
       "JSd747BUBzjQmcBuscpYBtakNWfWKsC5YkjSZhjoDYXcAdI4KGaGyNRkGSLWqK3o+ExxoGwZdHGn\n",
       "/HEDGoOqBLlrK1X4H9rUcS9PoNrHOD/AKIx/dArJB5kh9+Iv3AGrkLzV0idvi7tykAkDcjUcZr1S\n",
       "H9yBSIbsS0LOhr+03S+dY113XvanupyxDr+mBnqq9hCpW2i9+7N+pss5FtXeAMZd1rZZxDeThehy\n",
       "Yootegdxz7dW8eKHY6bhLhx/m5rJHMbAcRK2ZaJOLVT2fm6YjJfIqpm4yYhxSGyWwGPuBjj1nT/9\n",
       "vaPyqcpvvmZEHRVNg3XdZzgVktH8+WViIqv4H1AugXXx4Nz5wO4SZya7lL1mrXe5gSf2Gtxp+0l0\n",
       "ob011JdwCiozZhpndaJkpPpUgmF9yZk1lbsnt+ga2p9CCpmNA+1cS2QYDD/810P76WK2TVor8JhK\n",
       "Wu9VljNVgQtpVwkvcQm9MHCNDo3IbN2WKGPNbj0LlCdT8na0/KnBFIRnYccAfsFkINn3mB+G1XCS\n",
       "DSCaES1guXb61DTmCm63JJhoL+QsTjuMaoRQeJFoF4cV5vAlLoj////Fw4aDdZ1C58SlGF1bMhvX\n",
       "ioijQQaR6/7M2Q+rglktCPpS0ZTa6SFDzKRWzRZM4AZEAgQ4AYXPFQ1rKLGN2IP02szB49zuFmoG\n",
       "eUCwX1JsflTK4zLjU7njsA/9VY1L5x7ovPucch1bbR+2slkwglmixHlh8eNi1duXrlUQoE8TxlTI\n",
       "t+mrOdGVRAgNX83oMEZOBkkTK3R1AJdCrIgzyilrr2oPC9syLFHzVaAdlfVy8ONFUhFX52K1kB0d\n",
       "xqB40ZIGex9p4XX5XBwjbZau6nSk0wNNxu1SesMYaq64Am245LhL/yrqVRvJn5Mwm1/8yjHsor96\n",
       "cJb5G+D2qYTUHJKN7zQMqLFhxUiNSsex23KBHB7PMY4TWYcvEMxC9RP91q5dNOaaIZQJ4+By8PdP\n",
       "8izGcQJofyXJ5qdi4/MUJdCuzePQKxZOMyckOV87bDmztc3Pf1KvyAP2sYNUkVXWpX/JecmqMe6u\n",
       "RuoOmLRv00ArE0o+c2Ad2jFQa9Nn8EjLPaIoc0VF+x7VR9iejPoKu1eS9qvgp/ki+LhQ63Np1qLq\n",
       "GAUYMxBwW7VJlBiUc50N1e/EYhyUJDXDySq7MkrkndZlvNY0hwVNEIAOr90liyyQ0/gTe1zTvjY4\n",
       "vnc2of3b9S3UDeOSitSLDYmkIsTuwGm9mesW0uzFSnrVzY8sxTLrDkS0lyUoTdznhxggm0vee0Tq\n",
       "AJSLMr+dqZ42qN++O8vY3UHTFopc7Dnn6A7tGicaBU04IBYSa/ffS/ABB23ko0wvGjS1QJ/voNdu\n",
       "7W4CqA+WPNEAQvHrGZoFAYqwWgt0kwVzeleZL2PPCwe1UYsQLKDP1FFWumO7aMSoVj/58ZJ6NlTz\n",
       "gI8j6HCRuxQKvhRCS9dO0FQ7+xdKthC8wvoi6JMrshztZvZRZwga2NcKQ9in85KWC9LjE934xQ4G\n",
       "NBRE6PxMtUCGaOivmP1R2d8znAM7qEN1wP+gmybczqoPS+Vb9tqAQLmeBKZDZkIceo77o0WaYGgP\n",
       "QHAZ/hYaZRbUmulu53gq62sWmU9SQ6r7OUnaFa8oxIQDzvZFrJPsThP40WCMRotL3W+H+OY/zsn+\n",
       "tzFTESgE8IuZtcmq/+JgSxhk+IeQ3P4C+QJbI8tinX3Ky23xlbPt49SitrDwM13L39LEYDFP3atg\n",
       "5fEF3af8SLeTGERzERtHxk19/y/+agA1yf33X8Zb0v9Rau2qo17XUXGDCWFQzapwJEL7fHo3fd2m\n",
       "T4VGqym7CGX39DB4IHirxs+P1OkJ5GrVRA/sia3FSbxAiinivBo5hCKFK+sF7XrlEMGWY/i9JUne\n",
       "LKzcgpLwsvWyCh6tVinNEKf5G8/6dqCoVeAdSMXVQkbl5xQMMUOb0mvVpxkmW8XJ5Wfnk89SHUwV\n",
       "pdihaZPdcFY3SzVwR+ttb1Jooyv0ZweQWbCNsgRL91GmbUAEg0l1JhElBeJ3PDxLR0Js7P7q4gy1\n",
       "7q9HmCwTv4YHClkV/B8m7nntaVEyT0k0VRfrl9Ii/DBkXjzr8JVn8OfotZsn5wwf4/disuLtM+UR\n",
       "ZXlgElUmc4Rh99txUrXXTiwiNtWoPEhXJIDBJu4Ur21Z2xs3ybgVVkOSXyY9SH+u4W8vPT5ISmha\n",
       "Nzi1rgAEu2r5IBHRAAABIUGaImxCv/44QAuZMjgAtJYOQa7TGLBB/Ty/oDkKWleAP67QX8tqrHvl\n",
       "E9Jfb8k/tMihdIhIiRKONJbqJmPNPHCPLOvRVSFannxvNkjKNLGM49D5UrxlddyZnMthSvsR/0MH\n",
       "+WFrDzh+YR4/UsrR4cHpjdgr9Qn0qvF0h5EhLykd/E+vDggVg6X7N4QOQy2QlwlpXFE5AbxCqVqL\n",
       "fxWLB/s20SblLnbP3WCmEVxzzQuKNQomLeajWR8g+cnsNuyLcFEnReDvDssWxqtJztIO0uyt04Ep\n",
       "1qs0eHGntHJ3IHUqsHWypnMR0K431KQnU83zVKU2NSKe+jbUy9CY8fRdbWMwT9gRKgwFIp/UGE05\n",
       "v4ZBPS80Y1GuKgi4fAHuKImgd/AAAAB6AZ5BeR//AMP9fhZZyH6sAA3KcWrizxsemPqaa7sG4dIo\n",
       "kPzQJM7MPBrmwlmrxjA08G9Ca6HtzEyNAzf6j0Atx7CPpz6X/sWtTKP+/Bbp+ExTxolUc06AT1BK\n",
       "DEgMOeqbzeNxuAmgyorCpS+EjtKvRcgwY5lJIO0JY0EAAACBQZpDPCGTKYQr//44QAUj2twDzRK0\n",
       "ztsYwAWrKTgRbNSmLMvW6bygc6tmIS1p0ZaIvaF6lYW1bp/dlf8TgHX1Im1w3BZ0BwNLXXaaxCmd\n",
       "C7CH2t+EgS21TEvlc51Ye4/gwdvkxagNoOUuTl39jZ3JqMfUOhS1UQRRbxgA9Kxlfk/oAAAAYkGa\n",
       "ZEnhDyZTAhX//jhAAnspsubmAGfKQACGwfqwq77vEPyjqjNJhfZKBZlua3HxWT3/rOUIk24X8M9K\n",
       "WK7ELn7prEdjgBFd5Ub2it22sfmHQhfa1jnPyafOqn3066Pu7/YXAAAAYUGahUnhDyZTAhf//oyw\n",
       "AUsOUg4+iAoYBSpBnZSxfhVu1gPzmbg61odav0Sfnp/C30NLV2uUfQSenyIJ3yZwrMusBBCRwaI5\n",
       "YCTD9eInYos7bj6ZLfxDtqjUQYC8EiZIyIEAAAB2QZqnSeEPJlMFETwv//6MsAFJ82dC/O9N6U+h\n",
       "7/y/t6lACxc94FkfBAuO1VgmgpyJFnrQP6eZNBc7iZLbPKjDEjYIKMCciEkIrulOlsyI/Fmpo4cT\n",
       "1QC9G0qvFH3hSQPHko84+uHuVUEalHuxrxSdTChoq54TyQAAAEABnsZqR/8ApfikYDGColhxJxwA\n",
       "CW0rrm6U50zJ+D29SKQ2mtbhzP33MAAaObw+fV2uNU2AKf2LmaqLfoEpfUZhAAAAY0Gay0nhDyZT\n",
       "Ahf//oywAUoK/9LM8PDHeEGW4MgBLVtRj019jPZwJ/+oJ5mN3+ls/vOXpvUgjMpSff9MkEYSmi0W\n",
       "LzcOZdJC9vGi5NC0X4Pg7NCIPndlX+ILqfIqROO9xuf3QAAAAENBnulFETwj/wBoTSUyCIAWzvN6\n",
       "/xdFqhgYdnaQ82QlAHH+nhxP+5zythFfsFJZ2DZQkaWp+tSMeSCq9BXSnKMU3mxFAAAARQGfCHRH\n",
       "/wCnuBdaGMGPYFNkTwARxWY64coHTYNudrO6w8fKPgl0R+70ARetkeX+/6X0a794ILCqxhv5X5UF\n",
       "L6dmdNTiyQAAAEQBnwpqR/8AqBUlvIACudRtOb6WDg4Ham4R2B0XycPeMYMaNr0LHHuzakqziIYk\n",
       "EA4GoaxEcMU8GETvPh1firShWgbU4AAAAHFBmw1JqEFomUwU8L/+jLABSgrr0s/OAGc3yXiAsgKu\n",
       "dDjnJeObzf6/Sg2rVcgm9jVbCZyXRfc3i50EIq41wmCECjpBL8DRyDG1xpExsRSffYCUNJPp66Z/\n",
       "dxLtbH1m9tMrh9X014ZQCSivci4Q7RHcpgAAADoBnyxqR/8AqBUl5DgAfzdJ7zQMUILoifnHYFgM\n",
       "pATccS58HBf9owIXnGI0te6XE+FPf1qa0h7DMaFBAAAAZEGbMUnhClJlMCF//oywAUlmBZjPp5CR\n",
       "HOnkgF6wAsnhepbGOTUkffxLOt6jp+idBqgsWSbVr04FZPVRrjt9SVzAceZ243P+3JiBDd3xaX70\n",
       "IWcdeTcnipl3a634Be5ub33JUo8AAAA/QZ9PRTRMI/8AaQ8xPl9jr8X+AGwooloMp+vqortYrUr+\n",
       "/a10+EOJrUsmYLpq3CuFrkLo266TRsgzJUp1J6iBAAAAOgGfbnRH/wCobmQMxduZKEgAzTqAsACi\n",
       "icXogpKpnKaN/xv6UERoCR7ThbCITWW/4vF3HENUDLdMW0AAAAAtAZ9wakf/AKfMcCfjSbSCidj4\n",
       "58OABOMq/otU8iqpRVdU1RD3CVrd/qN5lkN5AAAAWEGbdUmoQWiZTAhf//6MsAKBs5RrexcT2zyP\n",
       "DRAVNYl+ev2u57YA4uiccCa7iNdUXoHQfFj64Q44v3eVv+ZzFWX3JPzPz68D8It+1PebT6nVW4qm\n",
       "8ibYnhkAAAAzQZ+TRREsI/8AaD25FvPz76Rmxe1uw2AFvEHZU79rWXPyFngHeJEFaenhlX0YVLl/\n",
       "Rp9AAAAAPgGfsnRH/wFH9LDs4OkSshmzQAEt4f2qvHmK6MnF4DRZCZH7/ybkmj045lj2piyqubyC\n",
       "PAphbKThUuWHIyfAAAAANQGftGpH/wCl6uJX3XAAlYnowMc6G07cFUqq5g3x0GoJJw32B2aNsqf6\n",
       "nS5n6anp14QMB2BBAAAAXEGbuUmoQWyZTAhX//44QAmpRTSmMALJopw6oz00FyvrH9sLbgRwKxDj\n",
       "QvfELQ5xjqt8/3b0J4CyZT9bLTZLRpdI7/yp+UXtKmur0krjvRaYR59Yad7ZBu3e9NfGAAAARUGf\n",
       "10UVLCP/AM5X9f+MANwp/BHdJdehOG4Aordz3fhVUg7xSs0z/FGIX31o+DtHL3HWZBNjy5f8ivBK\n",
       "U9OfByyhkWsgwQAAAC8Bn/Z0R/8BQ1RrVpReo3gBJjDyhvL5pnYKIs8mCkoWJYFf6DSE7zt+Dle8\n",
       "kzqRgQAAAD4Bn/hqR/8BRk7BoMYQATq5oknMiWFIQdbf+V8O2/p3DcWInfX+anxffC5zc8qsnnFU\n",
       "ZHCvGDLenctdVEJQ4AAAAE5Bm/xJqEFsmUwIT//98QAYZPUNNi042CR6OXhgzm34Hd5djpXpFv1D\n",
       "LnMmNCELmg+bRFL0LjyjQP1jc3JN7GubxR9o3R2/c3stJpJChYkAAAArQZ4aRRUsI/8AznM8glMH\n",
       "7tFpS0AE2szBjoQWMe2uCvfjmoaGlDDuXQZFwAAAAEMBnjtqR/8BUMxKO0AAB69vBLpWrszEAkwM\n",
       "rQ/7r+YUNqqMbE6Hhd3Z6maO9kXvespgsR3qSa1OHhbfftXJ7/G8WDTxAAAAQ0GaPUmoQWyZTAhP\n",
       "//3xABhqZYgizl6mkCACH5zFp0rwLlRYpb/TOOPuCKPm9ZCwYmvfjbz6JtHWaDXR2Vt9DGW5U70A\n",
       "AABHQZpeSeEKUmUwIT/98QAYgFHUuyrACSL64F1OtJNAo6dfahoLN7HQITA8RH0JMoYI78sszZxs\n",
       "Pdm+/vFpWIOYTwSkOygmqCkAAAA9QZp/SeEOiZTAhP/98QAYgFHQI9sWABDHXIuU53CPFCqvYhlM\n",
       "DslBjhSJymLqtm+hdnmFRbD2SqfREDSZWAAAABhBmoFJ4Q8mUwURPH/8hACXe4QFoxsAZUEAAAAr\n",
       "AZ6gakf/AVEboO5kKgAuoMvke26qPPqB+LPON5OOwJ03dlv09HWR04aBOwAABJ5tb292AAAAbG12\n",
       "aGQAAAAAAAAAAAAAAAAAAAPoAAACqAABAAABAAAAAAAAAAAAAAAAAQAAAAAAAAAAAAAAAAAAAAEA\n",
       "AAAAAAAAAAAAAAAAAEAAAAAAAAAAAAAAAAAAAAAAAAAAAAAAAAAAAAAAAAACAAADyHRyYWsAAABc\n",
       "dGtoZAAAAAMAAAAAAAAAAAAAAAEAAAAAAAACqAAAAAAAAAAAAAAAAAAAAAAAAQAAAAAAAAAAAAAA\n",
       "AAAAAAEAAAAAAAAAAAAAAAAAAEAAAAABsAAAASAAAAAAACRlZHRzAAAAHGVsc3QAAAAAAAAAAQAA\n",
       "AqgAAAIAAAEAAAAAA0BtZGlhAAAAIG1kaGQAAAAAAAAAAAAAAAAAADIAAAAiAFXEAAAAAAAtaGRs\n",
       "cgAAAAAAAAAAdmlkZQAAAAAAAAAAAAAAAFZpZGVvSGFuZGxlcgAAAALrbWluZgAAABR2bWhkAAAA\n",
       "AQAAAAAAAAAAAAAAJGRpbmYAAAAcZHJlZgAAAAAAAAABAAAADHVybCAAAAABAAACq3N0YmwAAACz\n",
       "c3RzZAAAAAAAAAABAAAAo2F2YzEAAAAAAAAAAQAAAAAAAAAAAAAAAAAAAAABsAEgAEgAAABIAAAA\n",
       "AAAAAAEAAAAAAAAAAAAAAAAAAAAAAAAAAAAAAAAAAAAAAAAAAAAY//8AAAAxYXZjQwFkAB7/4QAY\n",
       "Z2QAHqzZQbCWhAAAAwAEAAADAZA8WLZYAQAGaOvjyyLAAAAAHHV1aWRraEDyXyRPxbo5pRvPAyPz\n",
       "AAAAAAAAABhzdHRzAAAAAAAAAAEAAAAiAAABAAAAABRzdHNzAAAAAAAAAAEAAAABAAAA+GN0dHMA\n",
       "AAAAAAAAHQAAAAEAAAIAAAAAAQAAAwAAAAABAAABAAAAAAMAAAIAAAAAAQAAAwAAAAABAAABAAAA\n",
       "AAEAAAUAAAAAAQAAAgAAAAABAAAAAAAAAAEAAAEAAAAAAQAAAwAAAAABAAABAAAAAAEAAAUAAAAA\n",
       "AQAAAgAAAAABAAAAAAAAAAEAAAEAAAAAAQAABQAAAAABAAACAAAAAAEAAAAAAAAAAQAAAQAAAAAB\n",
       "AAAFAAAAAAEAAAIAAAAAAQAAAAAAAAABAAABAAAAAAEAAAQAAAAAAgAAAQAAAAADAAACAAAAAAEA\n",
       "AAMAAAAAAQAAAQAAAAAcc3RzYwAAAAAAAAABAAAAAQAAACIAAAABAAAAnHN0c3oAAAAAAAAAAAAA\n",
       "ACIAAAqQAAABJQAAAH4AAACFAAAAZgAAAGUAAAB6AAAARAAAAGcAAABHAAAASQAAAEgAAAB1AAAA\n",
       "PgAAAGgAAABDAAAAPgAAADEAAABcAAAANwAAAEIAAAA5AAAAYAAAAEkAAAAzAAAAQgAAAFIAAAAv\n",
       "AAAARwAAAEcAAABLAAAAQQAAABwAAAAvAAAAFHN0Y28AAAAAAAAAAQAAACwAAABidWR0YQAAAFpt\n",
       "ZXRhAAAAAAAAACFoZGxyAAAAAAAAAABtZGlyYXBwbAAAAAAAAAAAAAAAAC1pbHN0AAAAJal0b28A\n",
       "AAAdZGF0YQAAAAEAAAAATGF2ZjU4LjI5LjEwMA==\n",
       "\">\n",
       "  Your browser does not support the video tag.\n",
       "</video>"
      ],
      "text/plain": [
       "<IPython.core.display.HTML object>"
      ]
     },
     "execution_count": 6,
     "metadata": {},
     "output_type": "execute_result"
    },
    {
     "data": {
      "text/plain": [
       "<Figure size 1080x1080 with 0 Axes>"
      ]
     },
     "metadata": {},
     "output_type": "display_data"
    },
    {
     "data": {
      "image/png": "[encoded data removed]",
      "text/plain": [
       "<Figure size 432x288 with 1 Axes>"
      ]
     },
     "metadata": {
      "needs_background": "light"
     },
     "output_type": "display_data"
    }
   ],
   "source": [
    "rocket = RectRocket(600,320,2,0)\n",
    "target = Target(25,0.01,50,0.01,100,320)\n",
    "world = World(rocket,target)\n",
    "\n",
    "\n",
    "HTML(plot_images(world.run()).to_html5_video())\n",
    "\n"
   ]
  },
  {
   "cell_type": "code",
   "execution_count": null,
   "metadata": {},
   "outputs": [],
   "source": []
  },
  {
   "cell_type": "code",
   "execution_count": 7,
   "metadata": {
    "colab": {
     "base_uri": "https://localhost:8080/",
     "height": 282
    },
    "colab_type": "code",
    "id": "oUw5vNPODea2",
    "outputId": "0d8a8fe4-1f89-4403-a210-fc29c4509eb7"
   },
   "outputs": [
    {
     "data": {
      "text/plain": [
       "[<matplotlib.lines.Line2D at 0x1ee678bbc88>]"
      ]
     },
     "execution_count": 7,
     "metadata": {},
     "output_type": "execute_result"
    },
    {
     "data": {
      "image/png": "[encoded data removed]",
      "text/plain": [
       "<Figure size 432x288 with 1 Axes>"
      ]
     },
     "metadata": {
      "needs_background": "light"
     },
     "output_type": "display_data"
    }
   ],
   "source": [
    "plt.plot(world.distance)"
   ]
  },
  {
   "cell_type": "code",
   "execution_count": 0,
   "metadata": {
    "colab": {},
    "colab_type": "code",
    "id": "wJRfpF5hDea5"
   },
   "outputs": [],
   "source": []
  }
 ],
 "metadata": {
  "colab": {
   "collapsed_sections": [],
   "name": "Lab6.ipynb",
   "provenance": []
  },
  "kernelspec": {
   "display_name": "Python 3",
   "language": "python",
   "name": "python3"
  },
  "language_info": {
   "codemirror_mode": {
    "name": "ipython",
    "version": 3
   },
   "file_extension": ".py",
   "mimetype": "text/x-python",
   "name": "python",
   "nbconvert_exporter": "python",
   "pygments_lexer": "ipython3",
   "version": "3.6.10"
  }
 },
 "nbformat": 4,
 "nbformat_minor": 1
}
